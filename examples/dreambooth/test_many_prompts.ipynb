{
 "cells": [
  {
   "cell_type": "code",
   "execution_count": 4,
   "id": "08363eee-743e-472d-bbca-cf645813bfa4",
   "metadata": {},
   "outputs": [],
   "source": [
    "import torch\n",
    "\n",
    "from diffusers import StableDiffusionPipeline"
   ]
  },
  {
   "cell_type": "code",
   "execution_count": 5,
   "id": "08782163",
   "metadata": {},
   "outputs": [],
   "source": [
    "def dummy(images, **kwargs):\n",
    "    return images, False"
   ]
  },
  {
   "cell_type": "code",
   "execution_count": 53,
   "id": "0ba3c2ca-cdde-47a3-810b-53ca8c2b6875",
   "metadata": {},
   "outputs": [],
   "source": [
    "model_path = \"/home/ubuntu/model\"\n",
    "token_name = \"aabbccddeeffgg\"\n",
    "num_pred_steps = 75\n",
    "guide = 7.5\n",
    "num_step = num_pred_steps\n",
    "pipe = StableDiffusionPipeline.from_pretrained(model_path, torch_dtype=torch.float16).to(\"cuda\")\n",
    "pipe.safety_checker = dummy"
   ]
  },
  {
   "cell_type": "code",
   "execution_count": 66,
   "id": "24372f4d-b650-41d1-8717-c0faf4a5c5fa",
   "metadata": {},
   "outputs": [
    {
     "ename": "SyntaxError",
     "evalue": "closing parenthesis '}' does not match opening parenthesis '[' on line 1 (<ipython-input-66-1d0a58588913>, line 24)",
     "output_type": "error",
     "traceback": [
      "\u001b[0;36m  File \u001b[0;32m\"<ipython-input-66-1d0a58588913>\"\u001b[0;36m, line \u001b[0;32m24\u001b[0m\n\u001b[0;31m    }\u001b[0m\n\u001b[0m    ^\u001b[0m\n\u001b[0;31mSyntaxError\u001b[0m\u001b[0;31m:\u001b[0m closing parenthesis '}' does not match opening parenthesis '[' on line 1\n"
     ]
    }
   ],
   "source": [
    "configs = [\n",
    "        \"colorful cinematic still of \" + token_name + \" person, armor, visible face, attractive person, cyberpunk,background made of brain cells, back light, organic, art by greg rutkowski, ultrarealistic, leica 30mm\"\n",
    "        \"pencil sketch of  \" + token_name + \" person inpired by greg rutkowski, digital art by artgem\",\n",
    "        \"photo, colorful cinematic still of  \" + token_name + \" person, organic armor, cyberpunk, background brain cells mesh, art by greg rutkowski\",\n",
    "        \"astronaut stylized beautiful painting digital artwork of {} 4k, octane, trending on art station\",\n",
    "        \"colorful cinematic still of \" + token_name + \" person, \" + token_name + \" person with long hair, color lights, on stage, ultrarealistic\",\n",
    "        \"photo, colorful cinematic still of  \" + token_name + \" person with organic armor, cyberpunk background,  \" + token_name + \" person, greg rutkowski\",\n",
    "        \"photo of  \" + token_name + \" person astronaut, astronaut, face visible helmet in alien world abstract oil painting, greg rutkowski, detailed face\",\n",
    "        \"photo of  \" + token_name + \" person as firefighter, helmet, ultrarealistic, leica 30mm\",\n",
    "        \"photo of  \" + token_name + \" person as steampunk warrior, neon organic vines, digital painting\",\n",
    "        \"impressionist painting of  \" + token_name + \" person by Daniel F Gerhartz, (( \" + token_name + \" person with painted in an impressionist style)), nature, trees\",\n",
    "        \"19th century oil portait of \" + token_name + \" ca. 1927, London National Gallery\",\n",
    "        \"Highly detailed cyberpunk oil pastel drawing of \" + token_name + \" art by greg rutowski, ultrarealistic, leica 30mm\",\n",
    "        \"20th century oil portrait painting of \" + token_name + \" as roman emperor wearing a wreath, highly detailed\",\n",
    "        \"digital artwork detailed sketch of \" + token_name + \" person face as a japanese ronin samurai trending on artstation\",\n",
    "        \"19th century pastiche portrait of \" + token_name + \" as Emperor of France wearing royal regalia, ca. 1928 London National Gallery\",\n",
    "        \"Hand drawn sketch of \" + token_name + \" portrait from leonardo davinci's The Codex Atlanticus is a 12-volume, ca. 1482, private collection\",\n",
    "        \"Close up detailed portrait 19th century oil Biblical painting of \" + token_name + \" bringing the 10 commandment tablets down from mount sinai, oil painting\",\n",
    "        \"Highly detailed modern oil painting 20st century of  \" + token_name + \" oil portrait by wassily kandinsky, Sotheby's\",\n",
    "        \"Time's Person of the Year 1980, magazine cover portrait \" + token_name + \" co-founder and CEO\",\n",
    "        \"48th President of the United States, \" + token_name + \" official portrait, The Smithsonian\",\n",
    "        \"highly detailed photocopy of entire 1980 $100 Dollar Bill Currency engraving \" + token_name,\n",
    "        \"highly detailed photocopy of classified documents showing \" + token_name + \" as a person of interest. CIA Museum, Langley Virginia.\"\n",
    "]\n",
    "\n",
    "imgs = []\n",
    "for prompt in configs:\n",
    "    image = pipe(prompt, num_inference_steps=num_pred_steps, guidance_scale=guide).images[0]\n",
    "    imgs.append(image)\n",
    "display(*imgs)"
   ]
  },
  {
   "cell_type": "code",
   "execution_count": null,
   "id": "1b0ed8f7-adfa-481f-8419-d7ae9c8a2a82",
   "metadata": {},
   "outputs": [],
   "source": []
  },
  {
   "cell_type": "code",
   "execution_count": null,
   "id": "20aca2fc-9286-419c-8f44-8ded167c2a60",
   "metadata": {},
   "outputs": [],
   "source": []
  },
  {
   "cell_type": "code",
   "execution_count": null,
   "id": "d1e05639-6689-41a8-9a5b-57a14f721604",
   "metadata": {},
   "outputs": [],
   "source": []
  }
 ],
 "metadata": {
  "kernelspec": {
   "display_name": "Python 3",
   "language": "python",
   "name": "python3"
  },
  "language_info": {
   "codemirror_mode": {
    "name": "ipython",
    "version": 3
   },
   "file_extension": ".py",
   "mimetype": "text/x-python",
   "name": "python",
   "nbconvert_exporter": "python",
   "pygments_lexer": "ipython3",
   "version": "3.8.10"
  },
  "vscode": {
   "interpreter": {
    "hash": "e7370f93d1d0cde622a1f8e1c04877d8463912d04d973331ad4851f04de6915a"
   }
  }
 },
 "nbformat": 4,
 "nbformat_minor": 5
}
